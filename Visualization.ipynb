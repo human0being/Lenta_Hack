{
  "nbformat": 4,
  "nbformat_minor": 0,
  "metadata": {
    "colab": {
      "name": "Visualization.ipynb",
      "provenance": [],
      "toc_visible": true
    },
    "kernelspec": {
      "name": "python3",
      "display_name": "Python 3"
    },
    "accelerator": "GPU"
  },
  "cells": [
    {
      "cell_type": "code",
      "metadata": {
        "id": "bgUS3EuW40oX",
        "outputId": "707a8bad-1418-405d-cd7e-dd996d45a04c",
        "colab": {
          "base_uri": "https://localhost:8080/"
        }
      },
      "source": [
        "!pip install pyarrow==0.15"
      ],
      "execution_count": null,
      "outputs": [
        {
          "output_type": "stream",
          "text": [
            "Requirement already satisfied: pyarrow==0.15 in /usr/local/lib/python3.6/dist-packages (0.15.0)\n",
            "Requirement already satisfied: six>=1.0.0 in /usr/local/lib/python3.6/dist-packages (from pyarrow==0.15) (1.15.0)\n",
            "Requirement already satisfied: numpy>=1.14 in /usr/local/lib/python3.6/dist-packages (from pyarrow==0.15) (1.18.5)\n"
          ],
          "name": "stdout"
        }
      ]
    },
    {
      "cell_type": "code",
      "metadata": {
        "id": "RQZql6Lc1Zl9",
        "outputId": "85f8d904-c654-4bd2-9d65-e203fb2f4f5c",
        "colab": {
          "base_uri": "https://localhost:8080/",
          "height": 71
        }
      },
      "source": [
        "import pandas as pd\n",
        "import pyarrow\n",
        "from matplotlib import pyplot as plt\n",
        "import numpy as np\n",
        "import seaborn as sns"
      ],
      "execution_count": null,
      "outputs": [
        {
          "output_type": "stream",
          "text": [
            "/usr/local/lib/python3.6/dist-packages/statsmodels/tools/_testing.py:19: FutureWarning: pandas.util.testing is deprecated. Use the functions in the public API at pandas.testing instead.\n",
            "  import pandas.util.testing as tm\n"
          ],
          "name": "stderr"
        }
      ]
    },
    {
      "cell_type": "code",
      "metadata": {
        "id": "a4njNzea8BLQ",
        "outputId": "dfbab1c8-1a87-4f74-e07d-acc865f03a3d",
        "colab": {
          "base_uri": "https://localhost:8080/",
          "height": 54
        }
      },
      "source": [
        "from google.colab import drive\n",
        "drive.mount('/content/drive')"
      ],
      "execution_count": null,
      "outputs": [
        {
          "output_type": "stream",
          "text": [
            "Drive already mounted at /content/drive; to attempt to forcibly remount, call drive.mount(\"/content/drive\", force_remount=True).\n"
          ],
          "name": "stdout"
        }
      ]
    },
    {
      "cell_type": "markdown",
      "metadata": {
        "id": "D96-gRSxg_wc"
      },
      "source": [
        "### Preprocessing"
      ]
    },
    {
      "cell_type": "code",
      "metadata": {
        "id": "-mgFA9873E71",
        "outputId": "e7b32e3c-ff66-4258-8360-1e3f046b3236",
        "colab": {
          "base_uri": "https://localhost:8080/",
          "height": 204
        }
      },
      "source": [
        "clients = pd.read_csv(\"/content/drive/My Drive/lenta_hack/clients.csv\")\n",
        "clients.head(5)"
      ],
      "execution_count": null,
      "outputs": [
        {
          "output_type": "execute_result",
          "data": {
            "text/html": [
              "<div>\n",
              "<style scoped>\n",
              "    .dataframe tbody tr th:only-of-type {\n",
              "        vertical-align: middle;\n",
              "    }\n",
              "\n",
              "    .dataframe tbody tr th {\n",
              "        vertical-align: top;\n",
              "    }\n",
              "\n",
              "    .dataframe thead th {\n",
              "        text-align: right;\n",
              "    }\n",
              "</style>\n",
              "<table border=\"1\" class=\"dataframe\">\n",
              "  <thead>\n",
              "    <tr style=\"text-align: right;\">\n",
              "      <th></th>\n",
              "      <th>client_id</th>\n",
              "      <th>gender</th>\n",
              "      <th>city</th>\n",
              "      <th>birthyear</th>\n",
              "    </tr>\n",
              "  </thead>\n",
              "  <tbody>\n",
              "    <tr>\n",
              "      <th>0</th>\n",
              "      <td>1a47d62dddacc03fe90c15652f7ae1a4</td>\n",
              "      <td>M</td>\n",
              "      <td>Other</td>\n",
              "      <td>1990.0</td>\n",
              "    </tr>\n",
              "    <tr>\n",
              "      <th>1</th>\n",
              "      <td>9cb909f701d25d548e953bff81192b56</td>\n",
              "      <td>F</td>\n",
              "      <td>Other</td>\n",
              "      <td>1969.0</td>\n",
              "    </tr>\n",
              "    <tr>\n",
              "      <th>2</th>\n",
              "      <td>d5da0f5b841b4f83383202807995027a</td>\n",
              "      <td>M</td>\n",
              "      <td>Other</td>\n",
              "      <td>1976.0</td>\n",
              "    </tr>\n",
              "    <tr>\n",
              "      <th>3</th>\n",
              "      <td>13ed7f16810b17b8cee6de834ac79a48</td>\n",
              "      <td>F</td>\n",
              "      <td>Moscow</td>\n",
              "      <td>1966.0</td>\n",
              "    </tr>\n",
              "    <tr>\n",
              "      <th>4</th>\n",
              "      <td>215fe3ea7d5bf0415e5504e2a7f33551</td>\n",
              "      <td>F</td>\n",
              "      <td>Other</td>\n",
              "      <td>1988.0</td>\n",
              "    </tr>\n",
              "  </tbody>\n",
              "</table>\n",
              "</div>"
            ],
            "text/plain": [
              "                          client_id gender    city  birthyear\n",
              "0  1a47d62dddacc03fe90c15652f7ae1a4      M   Other     1990.0\n",
              "1  9cb909f701d25d548e953bff81192b56      F   Other     1969.0\n",
              "2  d5da0f5b841b4f83383202807995027a      M   Other     1976.0\n",
              "3  13ed7f16810b17b8cee6de834ac79a48      F  Moscow     1966.0\n",
              "4  215fe3ea7d5bf0415e5504e2a7f33551      F   Other     1988.0"
            ]
          },
          "metadata": {
            "tags": []
          },
          "execution_count": 8
        }
      ]
    },
    {
      "cell_type": "code",
      "metadata": {
        "id": "nM0vRy97FGra",
        "outputId": "26fa6a25-b3ca-4867-ec46-e68b2da412d0",
        "colab": {
          "base_uri": "https://localhost:8080/",
          "height": 248
        }
      },
      "source": [
        "# Data to plot\n",
        "labels = 'Moscow', 'Regions', 'St.Petersburg'\n",
        "sizes = list(clients.groupby(['city']).count()['client_id'])\n",
        "colors = ['gold', 'green', 'lightskyblue']\n",
        "explode = (0.01, 0.1, 0)  \n",
        "\n",
        "# Plot\n",
        "plt.pie(sizes, explode=explode, labels=labels, colors=colors,\n",
        "autopct='%1.1f%%', shadow=True, startangle=140)\n",
        "\n",
        "plt.axis('equal')\n",
        "plt.savefig('cities.png', transparent=True)\n",
        "plt.show()"
      ],
      "execution_count": null,
      "outputs": [
        {
          "output_type": "display_data",
          "data": {
            "image/png": "[encoded data removed]",
            "text/plain": [
              "<Figure size 432x288 with 1 Axes>"
            ]
          },
          "metadata": {
            "tags": []
          }
        }
      ]
    },
    {
      "cell_type": "code",
      "metadata": {
        "id": "eNPzdHLeFz0L",
        "outputId": "8929e685-65a7-4559-c000-9f26392fa411",
        "colab": {
          "base_uri": "https://localhost:8080/",
          "height": 204
        }
      },
      "source": [
        "transactions = pd.read_parquet(\"/content/drive/My Drive/lenta_hack/transactions.parquet\", engine='pyarrow', columns=['chq_id', 'client_id', 'sales_sum'])\n",
        "transactions.head()"
      ],
      "execution_count": null,
      "outputs": [
        {
          "output_type": "execute_result",
          "data": {
            "text/html": [
              "<div>\n",
              "<style scoped>\n",
              "    .dataframe tbody tr th:only-of-type {\n",
              "        vertical-align: middle;\n",
              "    }\n",
              "\n",
              "    .dataframe tbody tr th {\n",
              "        vertical-align: top;\n",
              "    }\n",
              "\n",
              "    .dataframe thead th {\n",
              "        text-align: right;\n",
              "    }\n",
              "</style>\n",
              "<table border=\"1\" class=\"dataframe\">\n",
              "  <thead>\n",
              "    <tr style=\"text-align: right;\">\n",
              "      <th></th>\n",
              "      <th>chq_id</th>\n",
              "      <th>client_id</th>\n",
              "      <th>sales_sum</th>\n",
              "    </tr>\n",
              "  </thead>\n",
              "  <tbody>\n",
              "    <tr>\n",
              "      <th>0</th>\n",
              "      <td>ce5b3d1c531348c5d0d8e859b6d0cf91</td>\n",
              "      <td>90fca68123e692a005a4edeadd94b2f2</td>\n",
              "      <td>146.98</td>\n",
              "    </tr>\n",
              "    <tr>\n",
              "      <th>1</th>\n",
              "      <td>ce5b3d1c531348c5d0d8e859b6d0cf91</td>\n",
              "      <td>90fca68123e692a005a4edeadd94b2f2</td>\n",
              "      <td>249.99</td>\n",
              "    </tr>\n",
              "    <tr>\n",
              "      <th>2</th>\n",
              "      <td>ce5b3d1c531348c5d0d8e859b6d0cf91</td>\n",
              "      <td>90fca68123e692a005a4edeadd94b2f2</td>\n",
              "      <td>47.99</td>\n",
              "    </tr>\n",
              "    <tr>\n",
              "      <th>3</th>\n",
              "      <td>ce5b3d1c531348c5d0d8e859b6d0cf91</td>\n",
              "      <td>90fca68123e692a005a4edeadd94b2f2</td>\n",
              "      <td>47.99</td>\n",
              "    </tr>\n",
              "    <tr>\n",
              "      <th>4</th>\n",
              "      <td>ce5b3d1c531348c5d0d8e859b6d0cf91</td>\n",
              "      <td>90fca68123e692a005a4edeadd94b2f2</td>\n",
              "      <td>53.98</td>\n",
              "    </tr>\n",
              "  </tbody>\n",
              "</table>\n",
              "</div>"
            ],
            "text/plain": [
              "                             chq_id  ... sales_sum\n",
              "0  ce5b3d1c531348c5d0d8e859b6d0cf91  ...    146.98\n",
              "1  ce5b3d1c531348c5d0d8e859b6d0cf91  ...    249.99\n",
              "2  ce5b3d1c531348c5d0d8e859b6d0cf91  ...     47.99\n",
              "3  ce5b3d1c531348c5d0d8e859b6d0cf91  ...     47.99\n",
              "4  ce5b3d1c531348c5d0d8e859b6d0cf91  ...     53.98\n",
              "\n",
              "[5 rows x 3 columns]"
            ]
          },
          "metadata": {
            "tags": []
          },
          "execution_count": 2
        }
      ]
    },
    {
      "cell_type": "code",
      "metadata": {
        "id": "w4faYaoqLOes",
        "outputId": "947e6571-5adf-487f-9f2a-12a4ba644853",
        "colab": {
          "base_uri": "https://localhost:8080/",
          "height": 419
        }
      },
      "source": [
        "# returns of transactions\n",
        "transactions[transactions['sales_sum']<0]"
      ],
      "execution_count": null,
      "outputs": [
        {
          "output_type": "execute_result",
          "data": {
            "text/html": [
              "<div>\n",
              "<style scoped>\n",
              "    .dataframe tbody tr th:only-of-type {\n",
              "        vertical-align: middle;\n",
              "    }\n",
              "\n",
              "    .dataframe tbody tr th {\n",
              "        vertical-align: top;\n",
              "    }\n",
              "\n",
              "    .dataframe thead th {\n",
              "        text-align: right;\n",
              "    }\n",
              "</style>\n",
              "<table border=\"1\" class=\"dataframe\">\n",
              "  <thead>\n",
              "    <tr style=\"text-align: right;\">\n",
              "      <th></th>\n",
              "      <th>chq_id</th>\n",
              "      <th>client_id</th>\n",
              "      <th>sales_sum</th>\n",
              "    </tr>\n",
              "  </thead>\n",
              "  <tbody>\n",
              "    <tr>\n",
              "      <th>381</th>\n",
              "      <td>ec4574e5bf5e450785a34ceac2d4fa0d</td>\n",
              "      <td>548b17a993269db30cf7e02d50a672c4</td>\n",
              "      <td>-894.06</td>\n",
              "    </tr>\n",
              "    <tr>\n",
              "      <th>382</th>\n",
              "      <td>ec4574e5bf5e450785a34ceac2d4fa0d</td>\n",
              "      <td>548b17a993269db30cf7e02d50a672c4</td>\n",
              "      <td>-525.79</td>\n",
              "    </tr>\n",
              "    <tr>\n",
              "      <th>488</th>\n",
              "      <td>c2488b6b263a02b1b9b23139f3ff9e49</td>\n",
              "      <td>1084cd03ddbc36db147d51fdbe653c38</td>\n",
              "      <td>-74.16</td>\n",
              "    </tr>\n",
              "    <tr>\n",
              "      <th>1990</th>\n",
              "      <td>c1b703a0ac6b6f1a4a220b8b6b82c1ac</td>\n",
              "      <td>0efd1fe9f7ba6ba603d25b6f4253d4f4</td>\n",
              "      <td>-348.43</td>\n",
              "    </tr>\n",
              "    <tr>\n",
              "      <th>3000</th>\n",
              "      <td>28c011c824e95bc651c5cb1c3eea00b3</td>\n",
              "      <td>897fa9fcd8f657fb38e8f9f8431a7e4b</td>\n",
              "      <td>-299.85</td>\n",
              "    </tr>\n",
              "    <tr>\n",
              "      <th>...</th>\n",
              "      <td>...</td>\n",
              "      <td>...</td>\n",
              "      <td>...</td>\n",
              "    </tr>\n",
              "    <tr>\n",
              "      <th>32095041</th>\n",
              "      <td>41a2574aeca77c829bdab47eb041f0f1</td>\n",
              "      <td>b1d3c45219a3f8e6df370559446e2228</td>\n",
              "      <td>-46.89</td>\n",
              "    </tr>\n",
              "    <tr>\n",
              "      <th>32095043</th>\n",
              "      <td>41a2574aeca77c829bdab47eb041f0f1</td>\n",
              "      <td>b1d3c45219a3f8e6df370559446e2228</td>\n",
              "      <td>-67.99</td>\n",
              "    </tr>\n",
              "    <tr>\n",
              "      <th>32101658</th>\n",
              "      <td>cfc50c24be35a27e8267486166e2a5e2</td>\n",
              "      <td>c2e40883f25d08c0152454c0bd8f5d1a</td>\n",
              "      <td>-431.06</td>\n",
              "    </tr>\n",
              "    <tr>\n",
              "      <th>32106141</th>\n",
              "      <td>584f7148b5009f2ef0e34cf6f98d8f6d</td>\n",
              "      <td>a0df75ec20ce65c6a320883a7e79b1a3</td>\n",
              "      <td>-4998.26</td>\n",
              "    </tr>\n",
              "    <tr>\n",
              "      <th>32107302</th>\n",
              "      <td>83b682118044bfd9721bd914619c1bb7</td>\n",
              "      <td>90eca077fc3675dc472c1e9c2f857bac</td>\n",
              "      <td>-628.79</td>\n",
              "    </tr>\n",
              "  </tbody>\n",
              "</table>\n",
              "<p>22773 rows × 3 columns</p>\n",
              "</div>"
            ],
            "text/plain": [
              "                                    chq_id  ... sales_sum\n",
              "381       ec4574e5bf5e450785a34ceac2d4fa0d  ...   -894.06\n",
              "382       ec4574e5bf5e450785a34ceac2d4fa0d  ...   -525.79\n",
              "488       c2488b6b263a02b1b9b23139f3ff9e49  ...    -74.16\n",
              "1990      c1b703a0ac6b6f1a4a220b8b6b82c1ac  ...   -348.43\n",
              "3000      28c011c824e95bc651c5cb1c3eea00b3  ...   -299.85\n",
              "...                                    ...  ...       ...\n",
              "32095041  41a2574aeca77c829bdab47eb041f0f1  ...    -46.89\n",
              "32095043  41a2574aeca77c829bdab47eb041f0f1  ...    -67.99\n",
              "32101658  cfc50c24be35a27e8267486166e2a5e2  ...   -431.06\n",
              "32106141  584f7148b5009f2ef0e34cf6f98d8f6d  ...  -4998.26\n",
              "32107302  83b682118044bfd9721bd914619c1bb7  ...   -628.79\n",
              "\n",
              "[22773 rows x 3 columns]"
            ]
          },
          "metadata": {
            "tags": []
          },
          "execution_count": 3
        }
      ]
    },
    {
      "cell_type": "code",
      "metadata": {
        "id": "gjXK0bcyJy0q",
        "outputId": "48c14f79-07bd-4ff4-f924-2b5bd41cff34",
        "colab": {
          "base_uri": "https://localhost:8080/",
          "height": 34
        }
      },
      "source": [
        "# drop all returned goods\n",
        "transactions = transactions[transactions.select_dtypes(include=[np.number]).ge(0).all(1)]\n",
        "transactions = transactions.dropna()\n",
        "transactions.shape"
      ],
      "execution_count": null,
      "outputs": [
        {
          "output_type": "execute_result",
          "data": {
            "text/plain": [
              "(32086641, 3)"
            ]
          },
          "metadata": {
            "tags": []
          },
          "execution_count": 4
        }
      ]
    },
    {
      "cell_type": "code",
      "metadata": {
        "id": "TU7hJT1f3NWU",
        "outputId": "6d4b0d34-11a5-4881-eda2-7c787a632dff",
        "colab": {
          "base_uri": "https://localhost:8080/",
          "height": 224
        }
      },
      "source": [
        "materials = pd.read_csv(\"/content/drive/My Drive/lenta_hack/materials.csv\")\n",
        "materials.tail(5)"
      ],
      "execution_count": null,
      "outputs": [
        {
          "output_type": "execute_result",
          "data": {
            "text/html": [
              "<div>\n",
              "<style scoped>\n",
              "    .dataframe tbody tr th:only-of-type {\n",
              "        vertical-align: middle;\n",
              "    }\n",
              "\n",
              "    .dataframe tbody tr th {\n",
              "        vertical-align: top;\n",
              "    }\n",
              "\n",
              "    .dataframe thead th {\n",
              "        text-align: right;\n",
              "    }\n",
              "</style>\n",
              "<table border=\"1\" class=\"dataframe\">\n",
              "  <thead>\n",
              "    <tr style=\"text-align: right;\">\n",
              "      <th></th>\n",
              "      <th>material</th>\n",
              "      <th>hier_level_1</th>\n",
              "      <th>hier_level_2</th>\n",
              "      <th>hier_level_3</th>\n",
              "      <th>hier_level_4</th>\n",
              "      <th>vendor</th>\n",
              "      <th>is_private_label</th>\n",
              "      <th>is_alco</th>\n",
              "    </tr>\n",
              "  </thead>\n",
              "  <tbody>\n",
              "    <tr>\n",
              "      <th>105604</th>\n",
              "      <td>feeddbacd9eed3bac85b1571ac79e40e</td>\n",
              "      <td>NONFOOD</td>\n",
              "      <td>3295c76acbf4caaed33c36b1b5fc2cb1</td>\n",
              "      <td>11704817e347269b7254e744b5e22dac</td>\n",
              "      <td>e47e165040e2914783a451509bbc8180</td>\n",
              "      <td>8ca0d8745f91fb71551be26b1ca854f4</td>\n",
              "      <td>0</td>\n",
              "      <td>0</td>\n",
              "    </tr>\n",
              "    <tr>\n",
              "      <th>105605</th>\n",
              "      <td>e218c4c3676927e53b95a12ffe9e721a</td>\n",
              "      <td>FOOD</td>\n",
              "      <td>02e74f10e0327ad868d138f2b4fdd6f0</td>\n",
              "      <td>df0e09d6f25a15a815563df9827f48fa</td>\n",
              "      <td>a03ddfb4b641e98de3223765162217c3</td>\n",
              "      <td>e3319f2f4767af113d82174f662f2d4e</td>\n",
              "      <td>1</td>\n",
              "      <td>1</td>\n",
              "    </tr>\n",
              "    <tr>\n",
              "      <th>105606</th>\n",
              "      <td>9a5e2e34d8406616f5981868b4576444</td>\n",
              "      <td>NONFOOD</td>\n",
              "      <td>fc490ca45c00b1249bbe3554a4fdf6fb</td>\n",
              "      <td>865bf46435bd84fa5d89f64cf3ba7347</td>\n",
              "      <td>e2a75db437bee7d34615fccf32d7a464</td>\n",
              "      <td>546614030cdbddcae3de351852962759</td>\n",
              "      <td>0</td>\n",
              "      <td>0</td>\n",
              "    </tr>\n",
              "    <tr>\n",
              "      <th>105607</th>\n",
              "      <td>d208910eb82fa1f57684f793f93521a4</td>\n",
              "      <td>NONFOOD</td>\n",
              "      <td>ea5d2f1c4608232e07d3aa3d998e5135</td>\n",
              "      <td>90365351ccc7437a1309dc64e4db32a3</td>\n",
              "      <td>ea9cffc9bd2bf8a0fb128d223f6a4282</td>\n",
              "      <td>7f1dbcf6ab15c23093508627ca12b8b1</td>\n",
              "      <td>0</td>\n",
              "      <td>0</td>\n",
              "    </tr>\n",
              "    <tr>\n",
              "      <th>105608</th>\n",
              "      <td>ac6bf06bbda21e48809e734c1f6fa010</td>\n",
              "      <td>NONFOOD</td>\n",
              "      <td>ea5d2f1c4608232e07d3aa3d998e5135</td>\n",
              "      <td>90365351ccc7437a1309dc64e4db32a3</td>\n",
              "      <td>65415da77b0f2c4d59897a3c1d7130f5</td>\n",
              "      <td>7f1dbcf6ab15c23093508627ca12b8b1</td>\n",
              "      <td>0</td>\n",
              "      <td>0</td>\n",
              "    </tr>\n",
              "  </tbody>\n",
              "</table>\n",
              "</div>"
            ],
            "text/plain": [
              "                                material  ... is_alco\n",
              "105604  feeddbacd9eed3bac85b1571ac79e40e  ...       0\n",
              "105605  e218c4c3676927e53b95a12ffe9e721a  ...       1\n",
              "105606  9a5e2e34d8406616f5981868b4576444  ...       0\n",
              "105607  d208910eb82fa1f57684f793f93521a4  ...       0\n",
              "105608  ac6bf06bbda21e48809e734c1f6fa010  ...       0\n",
              "\n",
              "[5 rows x 8 columns]"
            ]
          },
          "metadata": {
            "tags": []
          },
          "execution_count": 12
        }
      ]
    },
    {
      "cell_type": "code",
      "metadata": {
        "id": "4XQ1DPxE3Uof",
        "outputId": "bee1c326-b659-40b6-c797-5b6923191417",
        "colab": {
          "base_uri": "https://localhost:8080/",
          "height": 173
        }
      },
      "source": [
        "plants = pd.read_csv(\"/content/drive/My Drive/lenta_hack/plants.csv\")\n",
        "plants.tail(4)"
      ],
      "execution_count": null,
      "outputs": [
        {
          "output_type": "execute_result",
          "data": {
            "text/html": [
              "<div>\n",
              "<style scoped>\n",
              "    .dataframe tbody tr th:only-of-type {\n",
              "        vertical-align: middle;\n",
              "    }\n",
              "\n",
              "    .dataframe tbody tr th {\n",
              "        vertical-align: top;\n",
              "    }\n",
              "\n",
              "    .dataframe thead th {\n",
              "        text-align: right;\n",
              "    }\n",
              "</style>\n",
              "<table border=\"1\" class=\"dataframe\">\n",
              "  <thead>\n",
              "    <tr style=\"text-align: right;\">\n",
              "      <th></th>\n",
              "      <th>plant</th>\n",
              "      <th>plant_type</th>\n",
              "      <th>city</th>\n",
              "    </tr>\n",
              "  </thead>\n",
              "  <tbody>\n",
              "    <tr>\n",
              "      <th>384</th>\n",
              "      <td>238d77348d954fdd455aabb09575f2d0</td>\n",
              "      <td>SM</td>\n",
              "      <td>Other</td>\n",
              "    </tr>\n",
              "    <tr>\n",
              "      <th>385</th>\n",
              "      <td>6e1acaeb838a890e6570284f73e1d00f</td>\n",
              "      <td>SM</td>\n",
              "      <td>Other</td>\n",
              "    </tr>\n",
              "    <tr>\n",
              "      <th>386</th>\n",
              "      <td>7fc3ee9aad33036cc501b2ca7c163fc1</td>\n",
              "      <td>SM</td>\n",
              "      <td>Other</td>\n",
              "    </tr>\n",
              "    <tr>\n",
              "      <th>387</th>\n",
              "      <td>8a5dd78aadea6ffc984bda22064adb92</td>\n",
              "      <td>SM</td>\n",
              "      <td>Other</td>\n",
              "    </tr>\n",
              "  </tbody>\n",
              "</table>\n",
              "</div>"
            ],
            "text/plain": [
              "                                plant plant_type   city\n",
              "384  238d77348d954fdd455aabb09575f2d0         SM  Other\n",
              "385  6e1acaeb838a890e6570284f73e1d00f         SM  Other\n",
              "386  7fc3ee9aad33036cc501b2ca7c163fc1         SM  Other\n",
              "387  8a5dd78aadea6ffc984bda22064adb92         SM  Other"
            ]
          },
          "metadata": {
            "tags": []
          },
          "execution_count": 11
        }
      ]
    },
    {
      "cell_type": "code",
      "metadata": {
        "id": "Sg_idhBS4Ok2",
        "outputId": "874a7f01-659c-4a5a-e8b6-7583f59f71e2",
        "colab": {
          "base_uri": "https://localhost:8080/",
          "height": 34
        }
      },
      "source": [
        "plants[\"city\"].unique()"
      ],
      "execution_count": null,
      "outputs": [
        {
          "output_type": "execute_result",
          "data": {
            "text/plain": [
              "array(['St. Petersburg', 'Other', 'Moscow'], dtype=object)"
            ]
          },
          "metadata": {
            "tags": []
          },
          "execution_count": 12
        }
      ]
    },
    {
      "cell_type": "code",
      "metadata": {
        "id": "2BGXBby9M0kL",
        "outputId": "bbf9a462-579f-4427-fb2f-92c57131ad26",
        "colab": {
          "base_uri": "https://localhost:8080/",
          "height": 142
        }
      },
      "source": [
        "# calculate sums for each client for each check\n",
        "grouped_for_sums = transactions[['chq_id', 'client_id', 'sales_sum']].groupby(by=['chq_id', 'client_id'], as_index=False).sum()\n",
        "grouped_for_sums.head(3)\n",
        "# grouped_for_count = transactions[['chq_id', 'chq_date', 'client_id', 'material']].groupby(by=['chq_id', 'chq_date', 'client_id'], \n",
        "#                                                                                          as_index=False).count()"
      ],
      "execution_count": null,
      "outputs": [
        {
          "output_type": "execute_result",
          "data": {
            "text/html": [
              "<div>\n",
              "<style scoped>\n",
              "    .dataframe tbody tr th:only-of-type {\n",
              "        vertical-align: middle;\n",
              "    }\n",
              "\n",
              "    .dataframe tbody tr th {\n",
              "        vertical-align: top;\n",
              "    }\n",
              "\n",
              "    .dataframe thead th {\n",
              "        text-align: right;\n",
              "    }\n",
              "</style>\n",
              "<table border=\"1\" class=\"dataframe\">\n",
              "  <thead>\n",
              "    <tr style=\"text-align: right;\">\n",
              "      <th></th>\n",
              "      <th>chq_id</th>\n",
              "      <th>client_id</th>\n",
              "      <th>sales_sum</th>\n",
              "    </tr>\n",
              "  </thead>\n",
              "  <tbody>\n",
              "    <tr>\n",
              "      <th>0</th>\n",
              "      <td>00000391443926003b45cebac9a4c0b2</td>\n",
              "      <td>8a5c839e26cb4a6eedadce113cceb253</td>\n",
              "      <td>164.0</td>\n",
              "    </tr>\n",
              "    <tr>\n",
              "      <th>1</th>\n",
              "      <td>0000086694a97b18d2b5e5cfc309ab76</td>\n",
              "      <td>191412d730a981ce6ae809b8ef8a1070</td>\n",
              "      <td>821.0</td>\n",
              "    </tr>\n",
              "    <tr>\n",
              "      <th>2</th>\n",
              "      <td>00000b7bb8fd947f62aeed1bba4b6fbb</td>\n",
              "      <td>19c47bc27fdb0c828ef60074a67b8733</td>\n",
              "      <td>326.0</td>\n",
              "    </tr>\n",
              "  </tbody>\n",
              "</table>\n",
              "</div>"
            ],
            "text/plain": [
              "                             chq_id  ... sales_sum\n",
              "0  00000391443926003b45cebac9a4c0b2  ...     164.0\n",
              "1  0000086694a97b18d2b5e5cfc309ab76  ...     821.0\n",
              "2  00000b7bb8fd947f62aeed1bba4b6fbb  ...     326.0\n",
              "\n",
              "[3 rows x 3 columns]"
            ]
          },
          "metadata": {
            "tags": []
          },
          "execution_count": 11
        }
      ]
    },
    {
      "cell_type": "code",
      "metadata": {
        "id": "QaXCV1VYPlMs",
        "outputId": "18b4f7c8-4ce1-42e1-867e-e5276e08b004",
        "colab": {
          "base_uri": "https://localhost:8080/",
          "height": 142
        }
      },
      "source": [
        "# merge clients demographical info and transactions\n",
        "grouped_for_sums = grouped_for_sums.merge(clients, how='left', left_on='client_id', right_on='client_id')\n",
        "grouped_for_sums = grouped_for_sums.dropna()\n",
        "grouped_for_sums.head(3)"
      ],
      "execution_count": null,
      "outputs": [
        {
          "output_type": "execute_result",
          "data": {
            "text/html": [
              "<div>\n",
              "<style scoped>\n",
              "    .dataframe tbody tr th:only-of-type {\n",
              "        vertical-align: middle;\n",
              "    }\n",
              "\n",
              "    .dataframe tbody tr th {\n",
              "        vertical-align: top;\n",
              "    }\n",
              "\n",
              "    .dataframe thead th {\n",
              "        text-align: right;\n",
              "    }\n",
              "</style>\n",
              "<table border=\"1\" class=\"dataframe\">\n",
              "  <thead>\n",
              "    <tr style=\"text-align: right;\">\n",
              "      <th></th>\n",
              "      <th>chq_id</th>\n",
              "      <th>client_id</th>\n",
              "      <th>sales_sum</th>\n",
              "      <th>gender</th>\n",
              "      <th>city</th>\n",
              "      <th>birthyear</th>\n",
              "    </tr>\n",
              "  </thead>\n",
              "  <tbody>\n",
              "    <tr>\n",
              "      <th>0</th>\n",
              "      <td>00000391443926003b45cebac9a4c0b2</td>\n",
              "      <td>8a5c839e26cb4a6eedadce113cceb253</td>\n",
              "      <td>164.0</td>\n",
              "      <td>M</td>\n",
              "      <td>Other</td>\n",
              "      <td>1989.0</td>\n",
              "    </tr>\n",
              "    <tr>\n",
              "      <th>1</th>\n",
              "      <td>0000086694a97b18d2b5e5cfc309ab76</td>\n",
              "      <td>191412d730a981ce6ae809b8ef8a1070</td>\n",
              "      <td>821.0</td>\n",
              "      <td>F</td>\n",
              "      <td>Moscow</td>\n",
              "      <td>1987.0</td>\n",
              "    </tr>\n",
              "    <tr>\n",
              "      <th>2</th>\n",
              "      <td>00000b7bb8fd947f62aeed1bba4b6fbb</td>\n",
              "      <td>19c47bc27fdb0c828ef60074a67b8733</td>\n",
              "      <td>326.0</td>\n",
              "      <td>F</td>\n",
              "      <td>Other</td>\n",
              "      <td>1969.0</td>\n",
              "    </tr>\n",
              "  </tbody>\n",
              "</table>\n",
              "</div>"
            ],
            "text/plain": [
              "                             chq_id  ... birthyear\n",
              "0  00000391443926003b45cebac9a4c0b2  ...    1989.0\n",
              "1  0000086694a97b18d2b5e5cfc309ab76  ...    1987.0\n",
              "2  00000b7bb8fd947f62aeed1bba4b6fbb  ...    1969.0\n",
              "\n",
              "[3 rows x 6 columns]"
            ]
          },
          "metadata": {
            "tags": []
          },
          "execution_count": 12
        }
      ]
    },
    {
      "cell_type": "code",
      "metadata": {
        "id": "a6jJufnrUBqG"
      },
      "source": [
        "# split by region\n",
        "grouped_for_sums['years'] = (2020 - grouped_for_sums['birthyear']) // 20\n",
        "grouped_for_sums = grouped_for_sums[grouped_for_sums.select_dtypes(include=[np.number]).ge(0).all(1)]\n",
        "grouped_for_sums = grouped_for_sums[grouped_for_sums['years'] < 4]\n",
        "grouped_for_sums = grouped_for_sums[grouped_for_sums['years'] >= 0]\n",
        "\n",
        "grouped_for_sums_region = grouped_for_sums[grouped_for_sums['city'] == 'Other'][['sales_sum', 'gender', 'years']]\n",
        "grouped_for_sums_moscow_pet = grouped_for_sums[grouped_for_sums['city'] != 'Other'][['sales_sum', 'gender', 'years']]"
      ],
      "execution_count": null,
      "outputs": []
    },
    {
      "cell_type": "code",
      "metadata": {
        "id": "cfmPsI0DVlca",
        "outputId": "e0f4b7df-4754-458f-d49b-9c62096e9da4",
        "colab": {
          "base_uri": "https://localhost:8080/",
          "height": 204
        }
      },
      "source": [
        "grouped_for_sums_region.head()"
      ],
      "execution_count": null,
      "outputs": [
        {
          "output_type": "execute_result",
          "data": {
            "text/html": [
              "<div>\n",
              "<style scoped>\n",
              "    .dataframe tbody tr th:only-of-type {\n",
              "        vertical-align: middle;\n",
              "    }\n",
              "\n",
              "    .dataframe tbody tr th {\n",
              "        vertical-align: top;\n",
              "    }\n",
              "\n",
              "    .dataframe thead th {\n",
              "        text-align: right;\n",
              "    }\n",
              "</style>\n",
              "<table border=\"1\" class=\"dataframe\">\n",
              "  <thead>\n",
              "    <tr style=\"text-align: right;\">\n",
              "      <th></th>\n",
              "      <th>sales_sum</th>\n",
              "      <th>gender</th>\n",
              "      <th>years</th>\n",
              "    </tr>\n",
              "  </thead>\n",
              "  <tbody>\n",
              "    <tr>\n",
              "      <th>0</th>\n",
              "      <td>164.0</td>\n",
              "      <td>M</td>\n",
              "      <td>1.0</td>\n",
              "    </tr>\n",
              "    <tr>\n",
              "      <th>2</th>\n",
              "      <td>326.0</td>\n",
              "      <td>F</td>\n",
              "      <td>2.0</td>\n",
              "    </tr>\n",
              "    <tr>\n",
              "      <th>3</th>\n",
              "      <td>1713.0</td>\n",
              "      <td>M</td>\n",
              "      <td>2.0</td>\n",
              "    </tr>\n",
              "    <tr>\n",
              "      <th>4</th>\n",
              "      <td>2032.0</td>\n",
              "      <td>M</td>\n",
              "      <td>1.0</td>\n",
              "    </tr>\n",
              "    <tr>\n",
              "      <th>5</th>\n",
              "      <td>1141.0</td>\n",
              "      <td>M</td>\n",
              "      <td>3.0</td>\n",
              "    </tr>\n",
              "  </tbody>\n",
              "</table>\n",
              "</div>"
            ],
            "text/plain": [
              "   sales_sum gender  years\n",
              "0      164.0      M    1.0\n",
              "2      326.0      F    2.0\n",
              "3     1713.0      M    2.0\n",
              "4     2032.0      M    1.0\n",
              "5     1141.0      M    3.0"
            ]
          },
          "metadata": {
            "tags": []
          },
          "execution_count": 51
        }
      ]
    },
    {
      "cell_type": "code",
      "metadata": {
        "id": "yIhsg2DsYDvC",
        "outputId": "2aca5b66-910b-4c2b-aea0-5c240cde5d99",
        "colab": {
          "base_uri": "https://localhost:8080/",
          "height": 396
        }
      },
      "source": [
        "grouped_for_sums_region = grouped_for_sums_region.groupby(by=['gender', 'years'], as_index=False).mean()\n",
        "\n",
        "sns.set(style=\"white\")\n",
        "g = sns.catplot(x='years'\n",
        "                   ,y= 'sales_sum'\n",
        "                   ,hue='gender'\n",
        "                   ,data=grouped_for_sums_region\n",
        "                   ,kind='bar'\n",
        "                   ,aspect=1.5\n",
        "                   ,palette=['b', 'c']\n",
        "                   ,\n",
        "                   )\n",
        "g.set_xticklabels(['0-20', '20-40', '40-60', '60-80', '80-100'], rotation=30)\n",
        "plt.title('Regions')\n",
        "plt.savefig('Regions_check_sum.png', transparent=True)\n",
        "plt.show()"
      ],
      "execution_count": null,
      "outputs": [
        {
          "output_type": "display_data",
          "data": {
            "image/png": "[encoded data removed]",
            "text/plain": [
              "<Figure size 591.425x360 with 1 Axes>"
            ]
          },
          "metadata": {
            "tags": []
          }
        }
      ]
    },
    {
      "cell_type": "code",
      "metadata": {
        "id": "Mm4P23vhcyHW",
        "outputId": "de37305e-ab7a-41d1-c218-f5f31f253805",
        "colab": {
          "base_uri": "https://localhost:8080/",
          "height": 396
        }
      },
      "source": [
        "grouped_for_sums_moscow_pet = grouped_for_sums_moscow_pet.groupby(by=['gender', 'years'], as_index=False).mean()\n",
        "\n",
        "sns.set(style=\"white\")\n",
        "g = sns.catplot(x='years'\n",
        "                   ,y= 'sales_sum'\n",
        "                   ,hue='gender'\n",
        "                   ,data=grouped_for_sums_moscow_pet\n",
        "                   ,kind='bar'\n",
        "                   ,aspect=1.5\n",
        "                   ,palette=['b', 'c']\n",
        "                   )\n",
        "g.set_xticklabels(['0-20', '20-40', '40-60', '60-80', '80-100'], rotation=30)\n",
        "plt.title('Moscow and St.Petersburg')\n",
        "plt.savefig('Moscow_check_sum.png', transparent=True)\n",
        "plt.show()"
      ],
      "execution_count": null,
      "outputs": [
        {
          "output_type": "display_data",
          "data": {
            "image/png": "[encoded data removed]",
            "text/plain": [
              "<Figure size 591.425x360 with 1 Axes>"
            ]
          },
          "metadata": {
            "tags": []
          }
        }
      ]
    },
    {
      "cell_type": "markdown",
      "metadata": {
        "id": "S7Fu5c8wGBOP"
      },
      "source": [
        "## Check time series of purchases of one type "
      ]
    },
    {
      "cell_type": "code",
      "metadata": {
        "id": "Oq6QEOJD4TG_"
      },
      "source": [
        "transactions = pd.read_parquet(\"/content/drive/My Drive/lenta_hack/transactions.parquet\", engine='pyarrow', columns=['chq_date', 'material'])"
      ],
      "execution_count": null,
      "outputs": []
    },
    {
      "cell_type": "code",
      "metadata": {
        "id": "6J-zyb8e4b1X",
        "outputId": "9f2460d1-255b-4c6e-e145-1b6b60f58607",
        "colab": {
          "base_uri": "https://localhost:8080/",
          "height": 204
        }
      },
      "source": [
        "transactions.head()"
      ],
      "execution_count": null,
      "outputs": [
        {
          "output_type": "execute_result",
          "data": {
            "text/html": [
              "<div>\n",
              "<style scoped>\n",
              "    .dataframe tbody tr th:only-of-type {\n",
              "        vertical-align: middle;\n",
              "    }\n",
              "\n",
              "    .dataframe tbody tr th {\n",
              "        vertical-align: top;\n",
              "    }\n",
              "\n",
              "    .dataframe thead th {\n",
              "        text-align: right;\n",
              "    }\n",
              "</style>\n",
              "<table border=\"1\" class=\"dataframe\">\n",
              "  <thead>\n",
              "    <tr style=\"text-align: right;\">\n",
              "      <th></th>\n",
              "      <th>chq_date</th>\n",
              "      <th>material</th>\n",
              "    </tr>\n",
              "  </thead>\n",
              "  <tbody>\n",
              "    <tr>\n",
              "      <th>0</th>\n",
              "      <td>2016-11-01</td>\n",
              "      <td>232cfe8b28970434f685b737737b26d4</td>\n",
              "    </tr>\n",
              "    <tr>\n",
              "      <th>1</th>\n",
              "      <td>2016-11-01</td>\n",
              "      <td>12ec64451b8e426db16f3f05ea770901</td>\n",
              "    </tr>\n",
              "    <tr>\n",
              "      <th>2</th>\n",
              "      <td>2016-11-01</td>\n",
              "      <td>1212ff8ecf53aebef093ca8ae216db68</td>\n",
              "    </tr>\n",
              "    <tr>\n",
              "      <th>3</th>\n",
              "      <td>2016-11-01</td>\n",
              "      <td>1212ff8ecf53aebef093ca8ae216db68</td>\n",
              "    </tr>\n",
              "    <tr>\n",
              "      <th>4</th>\n",
              "      <td>2016-11-01</td>\n",
              "      <td>571c6d3b559db8445e05265649eb30ab</td>\n",
              "    </tr>\n",
              "  </tbody>\n",
              "</table>\n",
              "</div>"
            ],
            "text/plain": [
              "    chq_date                          material\n",
              "0 2016-11-01  232cfe8b28970434f685b737737b26d4\n",
              "1 2016-11-01  12ec64451b8e426db16f3f05ea770901\n",
              "2 2016-11-01  1212ff8ecf53aebef093ca8ae216db68\n",
              "3 2016-11-01  1212ff8ecf53aebef093ca8ae216db68\n",
              "4 2016-11-01  571c6d3b559db8445e05265649eb30ab"
            ]
          },
          "metadata": {
            "tags": []
          },
          "execution_count": 8
        }
      ]
    },
    {
      "cell_type": "code",
      "metadata": {
        "id": "nyPOj8C65VHU",
        "outputId": "95c2ba66-67e5-4fa9-8911-0bea78f7e24f",
        "colab": {
          "base_uri": "https://localhost:8080/",
          "height": 204
        }
      },
      "source": [
        "materials_two_columns = materials[['material', 'hier_level_4']]\n",
        "materials_two_columns.head()"
      ],
      "execution_count": null,
      "outputs": [
        {
          "output_type": "execute_result",
          "data": {
            "text/html": [
              "<div>\n",
              "<style scoped>\n",
              "    .dataframe tbody tr th:only-of-type {\n",
              "        vertical-align: middle;\n",
              "    }\n",
              "\n",
              "    .dataframe tbody tr th {\n",
              "        vertical-align: top;\n",
              "    }\n",
              "\n",
              "    .dataframe thead th {\n",
              "        text-align: right;\n",
              "    }\n",
              "</style>\n",
              "<table border=\"1\" class=\"dataframe\">\n",
              "  <thead>\n",
              "    <tr style=\"text-align: right;\">\n",
              "      <th></th>\n",
              "      <th>material</th>\n",
              "      <th>hier_level_4</th>\n",
              "    </tr>\n",
              "  </thead>\n",
              "  <tbody>\n",
              "    <tr>\n",
              "      <th>0</th>\n",
              "      <td>35cbdf61de9e19c8b417327aaef14c88</td>\n",
              "      <td>9eed45f71360b4b1e2590637467220e5</td>\n",
              "    </tr>\n",
              "    <tr>\n",
              "      <th>1</th>\n",
              "      <td>c0b0bf24d4ec71da3d304f761ec555d8</td>\n",
              "      <td>de2eb747e0896c050905a6b635ab800a</td>\n",
              "    </tr>\n",
              "    <tr>\n",
              "      <th>2</th>\n",
              "      <td>f0fc5e654a81a7c4b8ba8d7c26546e14</td>\n",
              "      <td>8a969031832c535daf96e0c2aed8e814</td>\n",
              "    </tr>\n",
              "    <tr>\n",
              "      <th>3</th>\n",
              "      <td>353693e64fb5f9e2d29746d7fe6edf1e</td>\n",
              "      <td>4c0dc012ebb679a18b244c53c6f59b5a</td>\n",
              "    </tr>\n",
              "    <tr>\n",
              "      <th>4</th>\n",
              "      <td>5d9e0b4302ce95448cae72165ff4cf5b</td>\n",
              "      <td>4c0dc012ebb679a18b244c53c6f59b5a</td>\n",
              "    </tr>\n",
              "  </tbody>\n",
              "</table>\n",
              "</div>"
            ],
            "text/plain": [
              "                           material                      hier_level_4\n",
              "0  35cbdf61de9e19c8b417327aaef14c88  9eed45f71360b4b1e2590637467220e5\n",
              "1  c0b0bf24d4ec71da3d304f761ec555d8  de2eb747e0896c050905a6b635ab800a\n",
              "2  f0fc5e654a81a7c4b8ba8d7c26546e14  8a969031832c535daf96e0c2aed8e814\n",
              "3  353693e64fb5f9e2d29746d7fe6edf1e  4c0dc012ebb679a18b244c53c6f59b5a\n",
              "4  5d9e0b4302ce95448cae72165ff4cf5b  4c0dc012ebb679a18b244c53c6f59b5a"
            ]
          },
          "metadata": {
            "tags": []
          },
          "execution_count": 13
        }
      ]
    },
    {
      "cell_type": "code",
      "metadata": {
        "id": "PkfwBpIo6E0y"
      },
      "source": [
        "df_categ_date = transactions.merge(materials_two_columns, how='left', left_on='material', right_on='material').groupby(['chq_date', 'hier_level_4'], as_index=False).count()"
      ],
      "execution_count": null,
      "outputs": []
    },
    {
      "cell_type": "code",
      "metadata": {
        "id": "moGbfZXC-7eq",
        "outputId": "ddee9ec8-3afc-4b0c-dfc8-5c0413563c95",
        "colab": {
          "base_uri": "https://localhost:8080/",
          "height": 204
        }
      },
      "source": [
        "df_categ_date['diff'] = df_categ_date['chq_date'] -   df_categ_date['chq_date'][0]\n",
        "df_categ_date['sec'] = df_categ_date['diff'].dt.total_seconds()\n",
        "df_categ_date.tail()"
      ],
      "execution_count": null,
      "outputs": [
        {
          "output_type": "execute_result",
          "data": {
            "text/html": [
              "<div>\n",
              "<style scoped>\n",
              "    .dataframe tbody tr th:only-of-type {\n",
              "        vertical-align: middle;\n",
              "    }\n",
              "\n",
              "    .dataframe tbody tr th {\n",
              "        vertical-align: top;\n",
              "    }\n",
              "\n",
              "    .dataframe thead th {\n",
              "        text-align: right;\n",
              "    }\n",
              "</style>\n",
              "<table border=\"1\" class=\"dataframe\">\n",
              "  <thead>\n",
              "    <tr style=\"text-align: right;\">\n",
              "      <th></th>\n",
              "      <th>chq_date</th>\n",
              "      <th>hier_level_4</th>\n",
              "      <th>material</th>\n",
              "      <th>diff</th>\n",
              "      <th>sec</th>\n",
              "    </tr>\n",
              "  </thead>\n",
              "  <tbody>\n",
              "    <tr>\n",
              "      <th>559003</th>\n",
              "      <td>2017-10-04</td>\n",
              "      <td>ff74d586765a550ffc8aae32b30b232c</td>\n",
              "      <td>2</td>\n",
              "      <td>365 days</td>\n",
              "      <td>31536000.0</td>\n",
              "    </tr>\n",
              "    <tr>\n",
              "      <th>559004</th>\n",
              "      <td>2017-10-04</td>\n",
              "      <td>ffa0829899912d2575fe413fdb53086d</td>\n",
              "      <td>124</td>\n",
              "      <td>365 days</td>\n",
              "      <td>31536000.0</td>\n",
              "    </tr>\n",
              "    <tr>\n",
              "      <th>559005</th>\n",
              "      <td>2017-10-04</td>\n",
              "      <td>ffa247ae4a097dc6a7e45ed492a5f069</td>\n",
              "      <td>17</td>\n",
              "      <td>365 days</td>\n",
              "      <td>31536000.0</td>\n",
              "    </tr>\n",
              "    <tr>\n",
              "      <th>559006</th>\n",
              "      <td>2017-10-04</td>\n",
              "      <td>ffa5a75bfd08cbe4a6a3b3328d5876ac</td>\n",
              "      <td>99</td>\n",
              "      <td>365 days</td>\n",
              "      <td>31536000.0</td>\n",
              "    </tr>\n",
              "    <tr>\n",
              "      <th>559007</th>\n",
              "      <td>2017-10-04</td>\n",
              "      <td>fff7988c2a0b3a775308c2c12e556e73</td>\n",
              "      <td>7</td>\n",
              "      <td>365 days</td>\n",
              "      <td>31536000.0</td>\n",
              "    </tr>\n",
              "  </tbody>\n",
              "</table>\n",
              "</div>"
            ],
            "text/plain": [
              "         chq_date                      hier_level_4  ...     diff         sec\n",
              "559003 2017-10-04  ff74d586765a550ffc8aae32b30b232c  ... 365 days  31536000.0\n",
              "559004 2017-10-04  ffa0829899912d2575fe413fdb53086d  ... 365 days  31536000.0\n",
              "559005 2017-10-04  ffa247ae4a097dc6a7e45ed492a5f069  ... 365 days  31536000.0\n",
              "559006 2017-10-04  ffa5a75bfd08cbe4a6a3b3328d5876ac  ... 365 days  31536000.0\n",
              "559007 2017-10-04  fff7988c2a0b3a775308c2c12e556e73  ... 365 days  31536000.0\n",
              "\n",
              "[5 rows x 5 columns]"
            ]
          },
          "metadata": {
            "tags": []
          },
          "execution_count": 23
        }
      ]
    },
    {
      "cell_type": "code",
      "metadata": {
        "id": "6Q9bf4olBR9q",
        "outputId": "606d4e3b-6cb2-48c7-cd00-926ab524d8c5",
        "colab": {
          "base_uri": "https://localhost:8080/",
          "height": 34
        }
      },
      "source": [
        "df_categ_date.shape"
      ],
      "execution_count": null,
      "outputs": [
        {
          "output_type": "execute_result",
          "data": {
            "text/plain": [
              "(559008, 5)"
            ]
          },
          "metadata": {
            "tags": []
          },
          "execution_count": 17
        }
      ]
    },
    {
      "cell_type": "code",
      "metadata": {
        "id": "UW6HJTQIEEau",
        "outputId": "2eecad75-a227-4f00-8133-6042620c4de0",
        "colab": {
          "base_uri": "https://localhost:8080/",
          "height": 204
        }
      },
      "source": [
        "df_categ_date_elem = df_categ_date[df_categ_date['hier_level_4'] == 'ffa5a75bfd08cbe4a6a3b3328d5876ac']\n",
        "df_categ_date_elem.head()"
      ],
      "execution_count": null,
      "outputs": [
        {
          "output_type": "execute_result",
          "data": {
            "text/html": [
              "<div>\n",
              "<style scoped>\n",
              "    .dataframe tbody tr th:only-of-type {\n",
              "        vertical-align: middle;\n",
              "    }\n",
              "\n",
              "    .dataframe tbody tr th {\n",
              "        vertical-align: top;\n",
              "    }\n",
              "\n",
              "    .dataframe thead th {\n",
              "        text-align: right;\n",
              "    }\n",
              "</style>\n",
              "<table border=\"1\" class=\"dataframe\">\n",
              "  <thead>\n",
              "    <tr style=\"text-align: right;\">\n",
              "      <th></th>\n",
              "      <th>chq_date</th>\n",
              "      <th>hier_level_4</th>\n",
              "      <th>material</th>\n",
              "      <th>diff</th>\n",
              "      <th>sec</th>\n",
              "    </tr>\n",
              "  </thead>\n",
              "  <tbody>\n",
              "    <tr>\n",
              "      <th>1510</th>\n",
              "      <td>2016-10-04</td>\n",
              "      <td>ffa5a75bfd08cbe4a6a3b3328d5876ac</td>\n",
              "      <td>134</td>\n",
              "      <td>0 days</td>\n",
              "      <td>0.0</td>\n",
              "    </tr>\n",
              "    <tr>\n",
              "      <th>3072</th>\n",
              "      <td>2016-10-05</td>\n",
              "      <td>ffa5a75bfd08cbe4a6a3b3328d5876ac</td>\n",
              "      <td>111</td>\n",
              "      <td>1 days</td>\n",
              "      <td>86400.0</td>\n",
              "    </tr>\n",
              "    <tr>\n",
              "      <th>4618</th>\n",
              "      <td>2016-10-06</td>\n",
              "      <td>ffa5a75bfd08cbe4a6a3b3328d5876ac</td>\n",
              "      <td>96</td>\n",
              "      <td>2 days</td>\n",
              "      <td>172800.0</td>\n",
              "    </tr>\n",
              "    <tr>\n",
              "      <th>6187</th>\n",
              "      <td>2016-10-07</td>\n",
              "      <td>ffa5a75bfd08cbe4a6a3b3328d5876ac</td>\n",
              "      <td>94</td>\n",
              "      <td>3 days</td>\n",
              "      <td>259200.0</td>\n",
              "    </tr>\n",
              "    <tr>\n",
              "      <th>7794</th>\n",
              "      <td>2016-10-08</td>\n",
              "      <td>ffa5a75bfd08cbe4a6a3b3328d5876ac</td>\n",
              "      <td>169</td>\n",
              "      <td>4 days</td>\n",
              "      <td>345600.0</td>\n",
              "    </tr>\n",
              "  </tbody>\n",
              "</table>\n",
              "</div>"
            ],
            "text/plain": [
              "       chq_date                      hier_level_4  material   diff       sec\n",
              "1510 2016-10-04  ffa5a75bfd08cbe4a6a3b3328d5876ac       134 0 days       0.0\n",
              "3072 2016-10-05  ffa5a75bfd08cbe4a6a3b3328d5876ac       111 1 days   86400.0\n",
              "4618 2016-10-06  ffa5a75bfd08cbe4a6a3b3328d5876ac        96 2 days  172800.0\n",
              "6187 2016-10-07  ffa5a75bfd08cbe4a6a3b3328d5876ac        94 3 days  259200.0\n",
              "7794 2016-10-08  ffa5a75bfd08cbe4a6a3b3328d5876ac       169 4 days  345600.0"
            ]
          },
          "metadata": {
            "tags": []
          },
          "execution_count": 24
        }
      ]
    },
    {
      "cell_type": "code",
      "metadata": {
        "id": "JpHZFKZPEjZE",
        "outputId": "51d98115-9c00-4cc0-9d88-2d9daf46ca6c",
        "colab": {
          "base_uri": "https://localhost:8080/",
          "height": 265
        }
      },
      "source": [
        "plt.plot(df_categ_date_elem['chq_date'], df_categ_date_elem['material'])\n",
        "plt.show()"
      ],
      "execution_count": null,
      "outputs": [
        {
          "output_type": "display_data",
          "data": {
            "image/png": "[encoded data removed]",
            "text/plain": [
              "<Figure size 432x288 with 1 Axes>"
            ]
          },
          "metadata": {
            "tags": [],
            "needs_background": "light"
          }
        }
      ]
    },
    {
      "cell_type": "code",
      "metadata": {
        "id": "UQNUEQdfE6z1"
      },
      "source": [
        ""
      ],
      "execution_count": null,
      "outputs": []
    }
  ]
}